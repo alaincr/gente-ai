{
 "cells": [
  {
   "cell_type": "raw",
   "metadata": {},
   "source": [
    "hello I'm a notebook"
   ]
  },
  {
   "cell_type": "code",
   "execution_count": 1,
   "metadata": {},
   "outputs": [
    {
     "name": "stdout",
     "output_type": "stream",
     "text": [
      "hello\n"
     ]
    }
   ],
   "source": [
    "print(\"hello\")"
   ]
  },
  {
   "cell_type": "markdown",
   "metadata": {},
   "source": [
    "print(\"jello\")"
   ]
  },
  {
   "cell_type": "code",
   "execution_count": 2,
   "metadata": {},
   "outputs": [
    {
     "name": "stdout",
     "output_type": "stream",
     "text": [
      "hello\n"
     ]
    }
   ],
   "source": [
    "print(\"hello\")\n"
   ]
  },
  {
   "cell_type": "markdown",
   "metadata": {},
   "source": [
    "print(\"hello\")\n"
   ]
  },
  {
   "cell_type": "code",
   "execution_count": 3,
   "metadata": {},
   "outputs": [
    {
     "name": "stdout",
     "output_type": "stream",
     "text": [
      "hello\n"
     ]
    }
   ],
   "source": [
    "print(\"hello\")"
   ]
  },
  {
   "cell_type": "code",
   "execution_count": 7,
   "metadata": {},
   "outputs": [
    {
     "name": "stdout",
     "output_type": "stream",
     "text": [
      "Hello\n",
      "Hi my name is Lilly and I'm 27 years old\n"
     ]
    }
   ],
   "source": [
    "#This is how you comment in python\n",
    "print(\"Hello\")\n",
    "age = 27\n",
    "print(\"Hi my name is %s and I'm %d years old\" % (\"Lilly\", age))"
   ]
  },
  {
   "cell_type": "markdown",
   "metadata": {},
   "source": [
    "v1 = \"Lilly\"\n",
    "v2 = 5838\n",
    "v3 = [1,2,3,4]\n",
    "\n",
    "print(v3)"
   ]
  },
  {
   "cell_type": "code",
   "execution_count": 8,
   "metadata": {},
   "outputs": [
    {
     "name": "stdout",
     "output_type": "stream",
     "text": [
      "100 or more\n"
     ]
    }
   ],
   "source": [
    "# if statement\n",
    "x = 100\n",
    "y = 100\n",
    "if x < 100:\n",
    "    print(\"less than 100\")\n",
    "    print(\"also me!\")\n",
    "else: \n",
    "    print(\"100 or more\")"
   ]
  },
  {
   "cell_type": "code",
   "execution_count": 10,
   "metadata": {},
   "outputs": [
    {
     "name": "stdout",
     "output_type": "stream",
     "text": [
      "0\n",
      "1\n",
      "2\n",
      "3\n",
      "4\n",
      "5\n",
      "6\n",
      "7\n",
      "8\n",
      "9\n",
      "This text is outside of the loop - not repeated\n"
     ]
    }
   ],
   "source": [
    "# for loops\n",
    "for i in range(10):\n",
    "    print(i)\n",
    "print(\"This text is outside of the loop - not repeated\")"
   ]
  },
  {
   "cell_type": "code",
   "execution_count": 15,
   "metadata": {},
   "outputs": [
    {
     "name": "stdout",
     "output_type": "stream",
     "text": [
      "Object `x.map` not found.\n"
     ]
    },
    {
     "data": {
      "text/plain": [
       "[1, 3, 5, 6, 6]"
      ]
     },
     "execution_count": 15,
     "metadata": {},
     "output_type": "execute_result"
    }
   ],
   "source": [
    "# Data structures\n",
    "# arrays\n",
    "x= [1,2,3,5,6]\n",
    "x.append(6)\n",
    "x.remove(2)\n",
    "?x.extend\n",
    "??x.map   #full documentation - if you have the library installed\n",
    "x  #jupyter will automatically print variables listed on last line"
   ]
  },
  {
   "cell_type": "code",
   "execution_count": 17,
   "metadata": {},
   "outputs": [
    {
     "name": "stdout",
     "output_type": "stream",
     "text": [
      "89ur Lilly\n",
      "82d Lavell\n",
      "dfd Dhairya\n"
     ]
    }
   ],
   "source": [
    "# Dictionary\n",
    "\n",
    "x = {\"89ur\": \"Lilly\", \"82d\": \"Lavell\", \"dfd\": \"Dhairya\"}\n",
    "x[\"82d\"] #retrieve value by key\n",
    "\n",
    "for k,v in x.items():\n",
    "    print(k,v)"
   ]
  },
  {
   "cell_type": "markdown",
   "metadata": {},
   "source": [
    "Notes on Data Science from Dhairya:"
   ]
  },
  {
   "cell_type": "markdown",
   "metadata": {},
   "source": [
    "Data science = study of data/insights from data --> statistics etc. (parent of other two)\n",
    "Machine learning = we want a machine to learn something about your data\n",
    "AI = a way of simplifying ml and using small sense of inferences to make models on data its fed\n",
    "\n",
    "Machine Learning\n",
    "Given some kind of input, can I guess what the output is?\n",
    "f(x) = y\n",
    "  ^    ^output\n",
    "  input\n",
    "  \n",
    "Supervised Learning\n",
    "    Develop predictive model based on both input and output data\n",
    "    - labeled data\n",
    "    - classification or Regression\n",
    "    - Classification: support vector machines, discriminant analysis, naive bayes, nearest neighbor\n",
    "    - Regression: linear regression GLM, SVR,GPR, Ensemble Methods, Decision Trees, Neural Networks\n",
    "    - Discrete: finite chunks of information (text labels like cat/dog/monkey (ordinal data --> no relationships between chunks of data), like/love scale: 1,2,3,4 --> cardinal data (there is a relationship between the chunks)\n",
    "    - Continuous: spectrum types of data (temperature, age, height, price, distance, HEX numbers for colors)\n",
    "    - Classification uses discrete data\n",
    "    - Regression uses continuous data\n",
    "        \n",
    "Unsupervised Learning\n",
    "    Discover an internal representation from input data only\n",
    "    - clustering\n",
    "        - hard clustering\n",
    "        - soft clustering\n",
    "        - Distance measure (are they related?)\n",
    "    - kMeans, kmedoids,Fuzzy C-mans\n",
    "    - Hierarchical\n",
    "    - Gaussian Mixture\n",
    "    - Neural Networks\n",
    "    - Hidden Markov Model\n",
    "\n",
    "Reinforcement Learning\n",
    "    Action space, reward function, end state, computer plays itself, previous actions impact future moves\n",
    "        - here are a set of moves that are allowed\n",
    "        - have the computer play itself until it meets \n",
    "        - \n",
    "//////=============================================\n",
    "\n",
    "For application:\n",
    "talk about what exactly you're trying to predict, is it continuous/discrete, talk about your research (probability of likelihood of gent. -> ex. avg. value per sq foot, distance to schools, etc.), identify inputs, outputs, what numbers will mean \n",
    "\n",
    "target = what you're trying to predict\n",
    "parameters = ?\n",
    "\n",
    "Things to look up:\n",
    "Figure out what your output is (is it %, is it Low risk, Med risk, High risk, etc.) --> can you train it to find that info\n",
    "- can you find data sets that tell you what the risk is for gent.\n",
    "- Regression\n",
    "- parameters/features in machine learning\n",
    "- ERB Relationships (entity, something, something relationships)\n",
    "- probabalistic models\n",
    "- least squares\n",
    "- elastic net\n",
    "- kernel regression\n",
    "- train, test, split  --> BEWARE OVER FITTING!!!  :)\n",
    "- train, validate, test --> further split\n",
    "- one_hot representation\n",
    "    x=[\"cat\", \"dog\", \"cat\", \"dog\", \"monkey\"]\n",
    "    one_hot = {\"cat\":0, \"dog\":1, \"monkey\": 2}\n",
    "    x= [one_hot[i] for i in x]\n",
    "    x"
   ]
  },
  {
   "cell_type": "code",
   "execution_count": null,
   "metadata": {},
   "outputs": [],
   "source": [
    "from sklearn.datasets import load"
   ]
  }
 ],
 "metadata": {
  "kernelspec": {
   "display_name": "Python 3",
   "language": "python",
   "name": "python3"
  },
  "language_info": {
   "codemirror_mode": {
    "name": "ipython",
    "version": 3
   },
   "file_extension": ".py",
   "mimetype": "text/x-python",
   "name": "python",
   "nbconvert_exporter": "python",
   "pygments_lexer": "ipython3",
   "version": "3.6.4"
  }
 },
 "nbformat": 4,
 "nbformat_minor": 2
}
